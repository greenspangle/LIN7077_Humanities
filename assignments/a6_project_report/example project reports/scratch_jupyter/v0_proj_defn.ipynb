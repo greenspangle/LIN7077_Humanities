{
 "cells": [
  {
   "cell_type": "markdown",
   "source": [
    "# My Project - Definition"
   ],
   "metadata": {
    "collapsed": false
   }
  },
  {
   "cell_type": "markdown",
   "source": [
    "* I will investigate the way vowels and consonants are distributed in English language texts.\n",
    "\n",
    "* The source of the texts will be copyright-free English language books available from www.gutenberg.org.\n",
    "\n",
    "I will develop my project using an iterative ‘agile’ methodology.\n",
    "\n",
    "I will test my software using some standardised text files I will create.\n",
    "\n",
    "Each iteration will take 1 week, maybe 2 weeks maximum.\n",
    "\n",
    "I will start by analysing just a single novel and expand later.\n",
    "\n"
   ],
   "metadata": {
    "collapsed": false
   }
  },
  {
   "cell_type": "code",
   "execution_count": null,
   "outputs": [],
   "source": [],
   "metadata": {
    "collapsed": false
   }
  }
 ],
 "metadata": {
  "kernelspec": {
   "display_name": "Python 3",
   "language": "python",
   "name": "python3"
  },
  "language_info": {
   "codemirror_mode": {
    "name": "ipython",
    "version": 2
   },
   "file_extension": ".py",
   "mimetype": "text/x-python",
   "name": "python",
   "nbconvert_exporter": "python",
   "pygments_lexer": "ipython2",
   "version": "2.7.6"
  }
 },
 "nbformat": 4,
 "nbformat_minor": 0
}
