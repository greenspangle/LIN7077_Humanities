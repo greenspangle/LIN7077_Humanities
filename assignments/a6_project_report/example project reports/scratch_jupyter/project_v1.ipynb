{
 "cells": [
  {
   "cell_type": "markdown",
   "source": [
    "## Project Iteration 1\n",
    "Decide on a single book that will be the subject of analysis.\n",
    "\n",
    "Clean the text of the book by removing headers and footers etc.,\n",
    "\n",
    "Build a function that accepts a text file and returns the total number of consonants and the total number of vowels it contains.\n",
    "\n",
    "1. Create a test file(s?) with a known number of vowels and consonants.\n",
    "1. Test the function against the test file and check results.\n",
    "\n",
    "Run function on cleaned book and record the result."
   ],
   "metadata": {
    "collapsed": false
   },
   "outputs": []
  },
  {
   "cell_type": "markdown",
   "source": [
    "The first task is to define a function that counts the number of vowels in a file.\n",
    "\n",
    "To do this I will use two subsidiary functions to allow for future flexibility:\n",
    "* a function that reads a file and returns its contents as a string\n",
    "* a function that reads a string and returns the number of vowels in that string\n",
    "\n",
    "Thinking that I will probably also need a count of the consonants I will create a function to do that as well."
   ],
   "metadata": {
    "collapsed": false
   }
  },
  {
   "cell_type": "code",
   "execution_count": 9,
   "outputs": [
    {
     "name": "stdout",
     "output_type": "stream",
     "text": [
      "14\n"
     ]
    }
   ],
   "source": [
    "import assignments.a4_CRUD_files.a040_answers as a4\n",
    "\n",
    "score = a4.score_2(2,5)\n",
    "print(score)\n",
    "\n",
    "def read_book(filename, mode = 'rt', encoding = 'utf-8'):\n",
    "    # read file and return contents as a string\n",
    "    with open(filename, mode = 'rt', encoding = 'utf-8') as f:\n",
    "        book = f.read()\n",
    "        return book\n",
    "\n",
    "# score"
   ],
   "metadata": {
    "collapsed": false
   }
  },
  {
   "cell_type": "code",
   "execution_count": 11,
   "outputs": [],
   "source": [
    "def count_vowels(a_str):\n",
    "    # answer the number of vowels in a_str\n",
    "    count = 0\n",
    "    a_str = a_str.lower()\n",
    "    for char in a_str:\n",
    "        if char in 'aeiou':\n",
    "            count += 1\n",
    "    return count\n"
   ],
   "metadata": {
    "collapsed": false
   }
  },
  {
   "cell_type": "code",
   "execution_count": 7,
   "outputs": [],
   "source": [
    "def count_consonants(a_str):\n",
    "    # answer the number of consonants in a_str\n",
    "    count = 0\n",
    "    alphabet = set('abcdefghijklmnopqrstuvwxyz')\n",
    "    vowels = set('aeiou')\n",
    "    consonants =alphabet.difference(vowels)\n",
    "    a_str = a_str.lower()\n",
    "    for char in a_str:\n",
    "        if char in consonants:\n",
    "            count += 1\n",
    "    return count"
   ],
   "metadata": {
    "collapsed": false
   }
  },
  {
   "cell_type": "markdown",
   "source": [
    "Describe what I am about to do"
   ],
   "metadata": {
    "collapsed": false
   }
  },
  {
   "cell_type": "code",
   "execution_count": 15,
   "outputs": [
    {
     "data": {
      "text/plain": "<Figure size 432x288 with 1 Axes>",
      "image/png": "[encoded data removed]"
     },
     "metadata": {
      "needs_background": "light"
     },
     "output_type": "display_data"
    }
   ],
   "source": [
    "import matplotlib.pyplot as plt\n",
    "import numpy as np\n",
    "\n",
    "ypoints = np.array([3, 8, 1, 10])\n",
    "\n",
    "plt.plot(ypoints, marker = 'o')\n",
    "plt.show()"
   ],
   "metadata": {
    "collapsed": false
   }
  },
  {
   "cell_type": "markdown",
   "source": [
    "### Isn't that good!!"
   ],
   "metadata": {
    "collapsed": false
   }
  },
  {
   "cell_type": "code",
   "execution_count": 15,
   "outputs": [],
   "source": [],
   "metadata": {
    "collapsed": false
   }
  }
 ],
 "metadata": {
  "kernelspec": {
   "display_name": "Python 3",
   "language": "python",
   "name": "python3"
  },
  "language_info": {
   "codemirror_mode": {
    "name": "ipython",
    "version": 2
   },
   "file_extension": ".py",
   "mimetype": "text/x-python",
   "name": "python",
   "nbconvert_exporter": "python",
   "pygments_lexer": "ipython2",
   "version": "2.7.6"
  }
 },
 "nbformat": 4,
 "nbformat_minor": 0
}
