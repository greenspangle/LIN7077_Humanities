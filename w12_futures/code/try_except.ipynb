{
 "cells": [
  {
   "cell_type": "markdown",
   "source": [
    "# Try-Except\n",
    "For when things go wrong.\n",
    "\n",
    "For example, asking the user for a number works most of the time but if the user mistypes or misunderstands and types an input that is not a number the code can break."
   ],
   "metadata": {
    "collapsed": false
   }
  },
  {
   "cell_type": "code",
   "execution_count": 23,
   "outputs": [],
   "source": [
    "# get a number from user to do a calculation\n",
    "what_the_user_typed = input('Please input a number: ')"
   ],
   "metadata": {
    "collapsed": false
   }
  },
  {
   "cell_type": "code",
   "execution_count": 24,
   "outputs": [
    {
     "name": "stdout",
     "output_type": "stream",
     "text": [
      "Successfully converted user input to the numerical value =  6.0\n"
     ]
    }
   ],
   "source": [
    "# input() returns a string, not a number which means that\n",
    "# before we can do any calculations on that input it needs to be converted to a number\n",
    "# the built-in function float() is designed to do exactly that\n",
    "a_number = float(what_the_user_typed)\n",
    "print('Successfully converted user input to the numerical value = ', a_number)"
   ],
   "metadata": {
    "collapsed": false
   }
  },
  {
   "cell_type": "markdown",
   "source": [
    "Run the code above. Everything works fine provided you enter a value that `float()` can convert. Unfortunately, if you enter a string that `floar()` cannot convert it throws a **ValueException** and the whole program crashes - which rarely impresses the customer!!\n",
    "\n",
    "One way to solve this problem is to wrap the code in a try-except loop (frequently also called *try-catch*)."
   ],
   "metadata": {
    "collapsed": false
   }
  },
  {
   "cell_type": "code",
   "execution_count": 25,
   "outputs": [
    {
     "name": "stdout",
     "output_type": "stream",
     "text": [
      "Successfully converted user input to the numerical value 6.0\n"
     ]
    }
   ],
   "source": [
    "#\n",
    "good_user_input = False\n",
    "# loop until good_user_input is True\n",
    "while not good_user_input:\n",
    "    try:\n",
    "        what_the_user_typed = input('Please input a number: ')\n",
    "        a_number = float(what_the_user_typed)\n",
    "        print('Successfully converted user input to the numerical value', a_number)\n",
    "        good_user_input = True\n",
    "    except ValueError:  # user did not type a number\n",
    "        print(f'ERROR: You entered  {what_the_user_typed}  which is not a numeric value. Please try again.\\n')\n",
    "    except:\n",
    "        print(f'ERROR: The value you types was OK but something else went wrong. Not sure exactly what that problem is.\\n')\n"
   ],
   "metadata": {
    "collapsed": false
   }
  },
  {
   "cell_type": "code",
   "execution_count": 25,
   "outputs": [],
   "source": [],
   "metadata": {
    "collapsed": false
   }
  }
 ],
 "metadata": {
  "kernelspec": {
   "display_name": "Python 3",
   "language": "python",
   "name": "python3"
  },
  "language_info": {
   "codemirror_mode": {
    "name": "ipython",
    "version": 2
   },
   "file_extension": ".py",
   "mimetype": "text/x-python",
   "name": "python",
   "nbconvert_exporter": "python",
   "pygments_lexer": "ipython2",
   "version": "2.7.6"
  }
 },
 "nbformat": 4,
 "nbformat_minor": 0
}
