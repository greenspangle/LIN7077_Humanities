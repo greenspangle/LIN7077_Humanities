{
 "cells": [
  {
   "metadata": {},
   "cell_type": "markdown",
   "source": [
    "# Project Chapter 2\n",
    "In the first chapter I read the book into a sting and counted the types of characters it contained. The number of uppercase, lowercase, spaces, punctuation, and so on were counted, and their relative proportion of the whole displayed in a pie-chart. \n",
    "\n",
    "In this chapter I will count the individual characters in the book and display those counts in a bar chart.\n",
    "\n",
    "After exploring those counts, I might begin counting words and more complex structures, but I think I will probably leave they until the next chapter.\n",
    "\n",
    "## Counting Character\n",
    "As with chapter 1, I intend to store the character counts in a dictionary. The code to do this needs to manipulate the director as the count is being constructed.  something like this:\n",
    "```\n",
    "create dictionary\n",
    "for each_char in book:\n",
    "    if char is in dictionary:\n",
    "        increase char count in dictionary by 1\n",
    "    else\n",
    "        add char to dictionary and set count to 1\n",
    "```\n",
    "\n"
   ],
   "id": "3d339f7353104c3c"
  },
  {
   "metadata": {},
   "cell_type": "code",
   "outputs": [],
   "execution_count": null,
   "source": [
    "from book_functions import read_book_to_str\n",
    "book = read_book_to_str('scarlet.txt')\n",
    "char_counts={}\n",
    "for each_char in book:\n",
    "    if each_char in char_counts:\n",
    "        char_counts[each_char] += 1\n",
    "    else:\n",
    "        char_counts[each_char] = 1"
   ],
   "id": "80286af89dd8ada"
  },
  {
   "metadata": {},
   "cell_type": "markdown",
   "source": "",
   "id": "64bb46576b98ba5"
  }
 ],
 "metadata": {
  "kernelspec": {
   "display_name": "Python 3",
   "language": "python",
   "name": "python3"
  },
  "language_info": {
   "codemirror_mode": {
    "name": "ipython",
    "version": 2
   },
   "file_extension": ".py",
   "mimetype": "text/x-python",
   "name": "python",
   "nbconvert_exporter": "python",
   "pygments_lexer": "ipython2",
   "version": "2.7.6"
  }
 },
 "nbformat": 4,
 "nbformat_minor": 5
}
