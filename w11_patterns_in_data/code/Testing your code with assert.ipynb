{
 "cells": [
  {
   "cell_type": "markdown",
   "id": "c299b952",
   "metadata": {},
   "source": [
    "# Testing your code with 'assert' statements\n",
    "\n",
    "\n"
   ]
  },
  {
   "cell_type": "code",
   "execution_count": null,
   "id": "82a555dd",
   "metadata": {},
   "outputs": [],
   "source": [
    "test = True"
   ]
  },
  {
   "cell_type": "markdown",
   "id": "2d42c737",
   "metadata": {},
   "source": [
    "## Example 1 - Testing the score_2(dice_1, dice_2) function"
   ]
  },
  {
   "cell_type": "code",
   "execution_count": null,
   "id": "3a2707a2",
   "metadata": {},
   "outputs": [],
   "source": [
    "def score_2(dice_1, dice_2):\n",
    "    if dice_1 + dice_2==7:\n",
    "        sum = 14\n",
    "        return sum\n",
    "    if dice_1 == dice_2 != 6:\n",
    "        sum = dice_1*3\n",
    "        return sum\n",
    "    if dice_1==6==dice_2:\n",
    "        sum = (dice_1 == dice_2)*2  # can you spot the problem?\n",
    "        return sum\n",
    "    else:\n",
    "        sum = dice_1 + dice_2\n",
    "        return sum"
   ]
  },
  {
   "cell_type": "markdown",
   "id": "e8e5cb04",
   "metadata": {},
   "source": [
    "Testing with `assert`\n",
    "\n",
    "If all tests pass, nothing happens!\n",
    "Which means it's easy to test lots of cases without having to wade through lots of output for no reason."
   ]
  },
  {
   "cell_type": "code",
   "execution_count": null,
   "id": "12e6c86e",
   "metadata": {},
   "outputs": [],
   "source": [
    "if test:\n",
    "    assert score_2(1, 5) == 6\n",
    "    assert score_2(5, 1) == 6\n",
    "    assert score_2(3, 4) == 14\n",
    "    assert score_2(5, 2) == 14\n",
    "    assert score_2(2, 2) == 6\n",
    "    assert score_2(6, 6) == 24"
   ]
  },
  {
   "cell_type": "markdown",
   "id": "43de309f",
   "metadata": {},
   "source": [
    "If a test does fail, `assert` raises an exception and identifies **exactly** which test failed.\n"
   ]
  },
  {
   "cell_type": "markdown",
   "id": "ccd5ed4d",
   "metadata": {},
   "source": [
    "## Example 2 - score_4(red_1, red_2, blue_1, blue_2)"
   ]
  },
  {
   "cell_type": "code",
   "execution_count": null,
   "id": "39d5bb65",
   "metadata": {},
   "outputs": [],
   "source": [
    "def score_4(red1, red2, blue1, blue2):\n",
    "    s =  (red1, red2, blue1, blue2)\n",
    "    a = sorted (s)\n",
    "    if red1 + blue2 ==7 and red2+ blue1 !=7:\n",
    "        return 7\n",
    "    if red1 + blue1 == 7 and red2 + blue2 != 7:\n",
    "        return 7\n",
    "    if red1 + blue1 != 7 and red2+blue2==7:\n",
    "        return 7\n",
    "    if red1+blue2!=7 and red2+blue1==7:\n",
    "        return 7\n",
    "    while red1+blue1 ==7 and red2 +blue1 ==7:\n",
    "        if s.count (3) ==2 and s.count(4)==2:\n",
    "            return 21\n",
    "        else:\n",
    "            return 14\n",
    "    while red1+blue2 ==7 and red2+blue1 ==7:\n",
    "        if s.count(3) ==2 and s.count (4)==2:\n",
    "            return 21\n",
    "        else:\n",
    "            return 14\n",
    "    else:\n",
    "        return a [0]"
   ]
  },
  {
   "cell_type": "code",
   "execution_count": null,
   "id": "058ad3b7",
   "metadata": {},
   "outputs": [],
   "source": [
    "if test:\n",
    "    assert score_4(1, 5, 6, 6) == 7\n",
    "    assert score_4(3, 2, 3, 3) == 2\n",
    "    assert score_4(2, 6, 1, 5) == 14\n",
    "    assert score_4(1, 1, 2, 6) == 7\n",
    "    assert score_4(1, 2, 3, 4) == 1\n",
    "    assert score_4(3, 3, 3, 4) == 7\n",
    "    assert score_4(3, 3, 4, 4) == 21\n",
    "    assert score_4(4, 3, 3, 4) == 21"
   ]
  },
  {
   "cell_type": "markdown",
   "id": "ac8c5b29",
   "metadata": {},
   "source": [
    "And problem identified, precisely!"
   ]
  }
 ],
 "metadata": {
  "kernelspec": {
   "display_name": "Python 3",
   "language": "python",
   "name": "python3"
  },
  "language_info": {
   "codemirror_mode": {
    "name": "ipython",
    "version": 3
   },
   "file_extension": ".py",
   "mimetype": "text/x-python",
   "name": "python",
   "nbconvert_exporter": "python",
   "pygments_lexer": "ipython3",
   "version": "3.8.8"
  }
 },
 "nbformat": 4,
 "nbformat_minor": 5
}
