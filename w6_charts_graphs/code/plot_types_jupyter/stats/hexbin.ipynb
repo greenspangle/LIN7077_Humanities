{
 "cells": [
  {
   "cell_type": "markdown",
   "metadata": {},
   "source": [
    "\n",
    "# hexbin(x, y, C)\n",
    "\n",
    "See `~matplotlib.axes.Axes.hexbin`.\n"
   ]
  },
  {
   "cell_type": "code",
   "execution_count": null,
   "metadata": {},
   "outputs": [],
   "source": [
    "import matplotlib.pyplot as plt\n",
    "import numpy as np\n",
    "\n",
    "plt.style.use('_mpl-gallery-nogrid')\n",
    "\n",
    "# make data: correlated + noise\n",
    "np.random.seed(1)\n",
    "x = np.random.randn(5000)\n",
    "y = 1.2 * x + np.random.randn(5000) / 3\n",
    "\n",
    "# plot:\n",
    "fig, ax = plt.subplots()\n",
    "\n",
    "ax.hexbin(x, y, gridsize=20)\n",
    "\n",
    "ax.set(xlim=(-2, 2), ylim=(-3, 3))\n",
    "\n",
    "plt.show()"
   ]
  }
 ],
 "metadata": {
  "kernelspec": {
   "display_name": "Python 3 (ipykernel)",
   "language": "python",
   "name": "python3"
  },
  "language_info": {
   "codemirror_mode": {
    "name": "ipython",
    "version": 3
   },
   "file_extension": ".py",
   "mimetype": "text/x-python",
   "name": "python",
   "nbconvert_exporter": "python",
   "pygments_lexer": "ipython3",
   "version": "3.9.12"
  }
 },
 "nbformat": 4,
 "nbformat_minor": 1
}
