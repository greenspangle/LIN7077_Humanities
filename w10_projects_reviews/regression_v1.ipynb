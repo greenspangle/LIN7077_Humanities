{
 "cells": [
  {
   "cell_type": "markdown",
   "id": "4cb8a352",
   "metadata": {},
   "source": [
    "# Linear Regression"
   ]
  },
  {
   "cell_type": "markdown",
   "id": "69f6607e",
   "metadata": {},
   "source": [
    "## import libraries"
   ]
  },
  {
   "cell_type": "code",
   "execution_count": 75,
   "id": "5b97c8b2",
   "metadata": {},
   "outputs": [],
   "source": [
    "import numpy as np\n",
    "from sklearn.linear_model import LinearRegression"
   ]
  },
  {
   "cell_type": "markdown",
   "id": "3083936f",
   "metadata": {},
   "source": [
    "## prepare data for plotting and regression"
   ]
  },
  {
   "cell_type": "code",
   "execution_count": 76,
   "id": "fdba600c",
   "metadata": {},
   "outputs": [],
   "source": [
    "xdata = np.array([5, 15, 25, 35, 45, 55])\n",
    "ydata = np.array([5, 20, 14, 32, 22, 38])\n",
    "\n",
    "x = xdata.reshape((-1, 1))\n",
    "y = ydata\n",
    "\n",
    "# x = np.array([5, 15, 25, 35, 45, 55]).reshape((-1, 1))\n",
    "# y = np.array([5, 20, 14, 32, 22, 38])"
   ]
  },
  {
   "cell_type": "code",
   "execution_count": 77,
   "id": "afb62c27",
   "metadata": {
    "scrolled": true
   },
   "outputs": [
    {
     "name": "stdout",
     "output_type": "stream",
     "text": [
      "[ 5 15 25 35 45 55]\n",
      "[ 5 20 14 32 22 38]\n",
      "[[ 5]\n",
      " [15]\n",
      " [25]\n",
      " [35]\n",
      " [45]\n",
      " [55]]\n",
      "[ 5 15 25 35 45 55]\n",
      "[[ 5]\n",
      " [15]\n",
      " [25]\n",
      " [35]\n",
      " [45]\n",
      " [55]]\n",
      "[ 5 20 14 32 22 38]\n"
     ]
    }
   ],
   "source": [
    "print(xdata)\n",
    "print(ydata)\n",
    "print(x1)\n",
    "print(y1)\n",
    "print(x)\n",
    "print(y)"
   ]
  },
  {
   "cell_type": "markdown",
   "id": "0a90bf43",
   "metadata": {},
   "source": [
    "##  create model object and find best fit for data"
   ]
  },
  {
   "cell_type": "code",
   "execution_count": 78,
   "id": "4796e5d2",
   "metadata": {},
   "outputs": [
    {
     "data": {
      "text/plain": [
       "LinearRegression()"
      ]
     },
     "execution_count": 78,
     "metadata": {},
     "output_type": "execute_result"
    }
   ],
   "source": [
    "model = LinearRegression()\n",
    "model.fit(x, y)"
   ]
  },
  {
   "cell_type": "markdown",
   "id": "a33674e0",
   "metadata": {},
   "source": [
    "## examine properties of the linear regression calculated"
   ]
  },
  {
   "cell_type": "code",
   "execution_count": 79,
   "id": "7b0c2b6f",
   "metadata": {
    "scrolled": false
   },
   "outputs": [
    {
     "name": "stdout",
     "output_type": "stream",
     "text": [
      "coefficient of determination: 0.7158756137479542\n",
      "intercept: 5.633333333333329\n",
      "slope: [0.54]\n"
     ]
    }
   ],
   "source": [
    "r_sq = model.score(x, y)\n",
    "print('coefficient of determination:', r_sq)\n",
    "print('intercept:', model.intercept_)\n",
    "print('slope:', model.coef_)"
   ]
  },
  {
   "cell_type": "markdown",
   "id": "ac62f646",
   "metadata": {},
   "source": [
    "## Plot the data and the regression line on the same chart"
   ]
  },
  {
   "cell_type": "code",
   "execution_count": 80,
   "id": "01d3c82f",
   "metadata": {},
   "outputs": [
    {
     "data": {
      "image/png": "[encoded data removed]",
      "text/plain": [
       "<Figure size 432x288 with 1 Axes>"
      ]
     },
     "metadata": {
      "needs_background": "light"
     },
     "output_type": "display_data"
    }
   ],
   "source": [
    "import matplotlib.pyplot as plt\n",
    "plt.plot(xdata, ydata, ls='', marker = 'o')\n",
    "yline = np.array([model.intercept_, 55*model.coef_[0] + model.intercept_])\n",
    "xline = np.array([0, 55])\n",
    "\n",
    "plt.plot(xline, yline)\n",
    "plt.show()"
   ]
  },
  {
   "cell_type": "markdown",
   "id": "a4c0b14d",
   "metadata": {},
   "source": [
    "## And another example"
   ]
  },
  {
   "cell_type": "code",
   "execution_count": 83,
   "id": "3bf7a2e9",
   "metadata": {},
   "outputs": [
    {
     "name": "stdout",
     "output_type": "stream",
     "text": [
      "coefficient of determination: 0.99785889093084\n",
      "intercept: 1.6587346017738742\n",
      "slope: [3.14218442]\n"
     ]
    },
    {
     "data": {
      "image/png": "[encoded data removed]",
      "text/plain": [
       "<Figure size 432x288 with 1 Axes>"
      ]
     },
     "metadata": {
      "needs_background": "light"
     },
     "output_type": "display_data"
    }
   ],
   "source": [
    "xdata2 = np.array([0.1, 1.09, 2.11, 2.91, 3.8, 4.9, 5.9])\n",
    "ydata2 = np.array([1.9, 4.9, 8.2, 11.4, 13.7, 16.7, 20.2])\n",
    "\n",
    "x2 = xdata2.reshape((-1, 1))\n",
    "y2 = ydata2\n",
    "\n",
    "model2 = LinearRegression()\n",
    "model2.fit(x2, y2)\n",
    "\n",
    "print('coefficient of determination:', model2.score(x2, y2))\n",
    "print('intercept:', model2.intercept_)\n",
    "print('slope:', model2.coef_)\n",
    "\n",
    "plt.plot(xdata2, ydata2, ls='', marker = 'o')\n",
    "yline2 = np.array([model2.intercept_, 6*model2.coef_[0] + model2.intercept_])\n",
    "xline2 = np.array([0, 6])\n",
    "\n",
    "plt.plot(xline2, yline2)\n",
    "plt.show()"
   ]
  },
  {
   "cell_type": "code",
   "execution_count": null,
   "id": "2a3fdf6b",
   "metadata": {},
   "outputs": [],
   "source": []
  }
 ],
 "metadata": {
  "kernelspec": {
   "display_name": "Python 3",
   "language": "python",
   "name": "python3"
  },
  "language_info": {
   "codemirror_mode": {
    "name": "ipython",
    "version": 3
   },
   "file_extension": ".py",
   "mimetype": "text/x-python",
   "name": "python",
   "nbconvert_exporter": "python",
   "pygments_lexer": "ipython3",
   "version": "3.8.8"
  }
 },
 "nbformat": 4,
 "nbformat_minor": 5
}
