{
 "cells": [
  {
   "cell_type": "markdown",
   "id": "9527c0fd",
   "metadata": {},
   "source": [
    "# The requests library\n",
    "Simplifies the task of making API calls across the web.<br/>\n",
    "The first step is to import the requests library.<br/>\n",
    "**Note: if you are NOT using Anacondda you will have to install this library using PIP INSTALL)**"
   ]
  },
  {
   "cell_type": "code",
   "execution_count": 1,
   "id": "3271a176",
   "metadata": {},
   "outputs": [],
   "source": [
    "import requests"
   ]
  },
  {
   "cell_type": "markdown",
   "id": "05428e16",
   "metadata": {},
   "source": [
    "### Make a simple API request to randomuser.me and display the result returned"
   ]
  },
  {
   "cell_type": "code",
   "execution_count": 2,
   "id": "55f6f9ed",
   "metadata": {},
   "outputs": [],
   "source": [
    "response = requests.get(\"https://randomuser.me/api/\")"
   ]
  },
  {
   "cell_type": "code",
   "execution_count": 3,
   "id": "bcbbde47",
   "metadata": {},
   "outputs": [
    {
     "data": {
      "text/plain": [
       "<Response [200]>"
      ]
     },
     "execution_count": 3,
     "metadata": {},
     "output_type": "execute_result"
    }
   ],
   "source": [
    "response # if this is code 200 then call was successful"
   ]
  },
  {
   "cell_type": "markdown",
   "id": "e71d5fc8",
   "metadata": {},
   "source": [
    "### More details please!"
   ]
  },
  {
   "cell_type": "code",
   "execution_count": 4,
   "id": "93582493",
   "metadata": {},
   "outputs": [
    {
     "data": {
      "text/plain": [
       "'{\"results\":[{\"gender\":\"female\",\"name\":{\"title\":\"Ms\",\"first\":\"Kimberly\",\"last\":\"Mitchell\"},\"location\":{\"street\":{\"number\":6997,\"name\":\"George Street\"},\"city\":\"Hereford\",\"state\":\"County Fermanagh\",\"country\":\"United Kingdom\",\"postcode\":\"T3W 0UH\",\"coordinates\":{\"latitude\":\"6.2921\",\"longitude\":\"84.3427\"},\"timezone\":{\"offset\":\"+10:00\",\"description\":\"Eastern Australia, Guam, Vladivostok\"}},\"email\":\"kimberly.mitchell@example.com\",\"login\":{\"uuid\":\"99ffb263-dee3-4d5f-a8c9-ddcac67ce397\",\"username\":\"organicswan834\",\"password\":\"riversid\",\"salt\":\"33oZv7hH\",\"md5\":\"08972268af289d6ca466c8d5158aad1a\",\"sha1\":\"5075af80fbf3feef3312ba3a637e4a135711b48f\",\"sha256\":\"f5b4c68a36a6872e90146433109e83c35aea3eb7e38d57da15dc89420d4c707f\"},\"dob\":{\"date\":\"1986-07-28T20:35:33.144Z\",\"age\":35},\"registered\":{\"date\":\"2013-09-11T01:19:38.822Z\",\"age\":8},\"phone\":\"017687 53329\",\"cell\":\"0727-943-911\",\"id\":{\"name\":\"NINO\",\"value\":\"NH 42 30 31 N\"},\"picture\":{\"large\":\"https://randomuser.me/api/portraits/women/76.jpg\",\"medium\":\"https://randomuser.me/api/portraits/med/women/76.jpg\",\"thumbnail\":\"https://randomuser.me/api/portraits/thumb/women/76.jpg\"},\"nat\":\"GB\"}],\"info\":{\"seed\":\"221653643e28c4a3\",\"results\":1,\"page\":1,\"version\":\"1.3\"}}'"
      ]
     },
     "execution_count": 4,
     "metadata": {},
     "output_type": "execute_result"
    }
   ],
   "source": [
    "response.text # lets see the details"
   ]
  },
  {
   "cell_type": "markdown",
   "id": "fa3d7c8e",
   "metadata": {},
   "source": [
    "### Now let's try the dog API"
   ]
  },
  {
   "cell_type": "code",
   "execution_count": 5,
   "id": "b05fd852",
   "metadata": {},
   "outputs": [
    {
     "data": {
      "text/plain": [
       "'{\"message\":\"The Dog API\"}'"
      ]
     },
     "execution_count": 5,
     "metadata": {},
     "output_type": "execute_result"
    }
   ],
   "source": [
    "response = requests.get(\"https://api.thedogapi.com/\")\n",
    "response.text"
   ]
  },
  {
   "cell_type": "code",
   "execution_count": 8,
   "id": "c25ad527",
   "metadata": {},
   "outputs": [
    {
     "data": {
      "text/plain": [
       "<Response [200]>"
      ]
     },
     "execution_count": 8,
     "metadata": {},
     "output_type": "execute_result"
    }
   ],
   "source": [
    "response = requests.get(\"https://api.thedogapi.com/v1/breeds\")\n",
    "response"
   ]
  },
  {
   "cell_type": "code",
   "execution_count": 12,
   "id": "84ec69fb",
   "metadata": {},
   "outputs": [
    {
     "data": {
      "text/plain": [
       "'[{\"weight\":{\"imperial\":\"6 - 13\",\"metric\":\"3 - 6\"},\"height\":{\"imperial\":\"9 - 11.5\",\"metric\":\"23 - 29\"},\"id\":1,\"name\":\"Affenpinscher\",\"bred_for\":\"Small rodent hunting, lapdog\",\"breed_group\":\"Toy\",\"life_span\":\"10 - 12 years\",\"temperament\":\"Stubborn, Curious, Playful, Adventurous, Active, Fun-loving\",\"origin\":\"Germany, France\",\"reference_image_id\":\"BJa4kxc4X\",\"image\":{\"id\":\"BJa4kxc4X\",\"width\":1600,\"height\":1199,\"url\":\"https://cdn2.thedogapi.com/images/BJa4kxc4X.jpg\"}},{\"weight\":{\"imperial\":\"50 - 60\"'"
      ]
     },
     "execution_count": 12,
     "metadata": {},
     "output_type": "execute_result"
    }
   ],
   "source": [
    "response.text[:500]"
   ]
  },
  {
   "cell_type": "code",
   "execution_count": null,
   "id": "0994ecde",
   "metadata": {},
   "outputs": [],
   "source": []
  }
 ],
 "metadata": {
  "kernelspec": {
   "display_name": "Python 3",
   "language": "python",
   "name": "python3"
  },
  "language_info": {
   "codemirror_mode": {
    "name": "ipython",
    "version": 3
   },
   "file_extension": ".py",
   "mimetype": "text/x-python",
   "name": "python",
   "nbconvert_exporter": "python",
   "pygments_lexer": "ipython3",
   "version": "3.8.8"
  }
 },
 "nbformat": 4,
 "nbformat_minor": 5
}
