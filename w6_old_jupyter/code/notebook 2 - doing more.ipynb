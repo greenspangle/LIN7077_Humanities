{
 "cells": [
  {
   "cell_type": "code",
   "execution_count": 1,
   "id": "ba289d4d",
   "metadata": {},
   "outputs": [
    {
     "name": "stdout",
     "output_type": "stream",
     "text": [
      "Hello Jupyter! Re-edit code and run it again!!\n"
     ]
    }
   ],
   "source": [
    "print(\"Hello Jupyter! Re-edit code and run it again!!\")"
   ]
  },
  {
   "cell_type": "code",
   "execution_count": 2,
   "id": "8d91581a",
   "metadata": {},
   "outputs": [],
   "source": [
    "a=5; b=7; c=13"
   ]
  },
  {
   "cell_type": "code",
   "execution_count": 3,
   "id": "775fb8f9",
   "metadata": {},
   "outputs": [
    {
     "data": {
      "text/plain": [
       "True"
      ]
     },
     "execution_count": 3,
     "metadata": {},
     "output_type": "execute_result"
    }
   ],
   "source": [
    "a + b + 1 == c"
   ]
  },
  {
   "cell_type": "code",
   "execution_count": 4,
   "id": "5f4615bb",
   "metadata": {},
   "outputs": [
    {
     "data": {
      "text/plain": [
       "True"
      ]
     },
     "execution_count": 4,
     "metadata": {},
     "output_type": "execute_result"
    }
   ],
   "source": [
    "Out[3] != False"
   ]
  },
  {
   "cell_type": "code",
   "execution_count": 5,
   "id": "004a5b9f",
   "metadata": {},
   "outputs": [],
   "source": [
    "def twice(an_int):\n",
    "    return an_int * 2"
   ]
  },
  {
   "cell_type": "code",
   "execution_count": 6,
   "id": "6f33812e",
   "metadata": {},
   "outputs": [
    {
     "data": {
      "text/plain": [
       "24"
      ]
     },
     "execution_count": 6,
     "metadata": {},
     "output_type": "execute_result"
    }
   ],
   "source": [
    "twice( a + b )"
   ]
  },
  {
   "cell_type": "code",
   "execution_count": null,
   "id": "ca20da0e",
   "metadata": {},
   "outputs": [],
   "source": []
  }
 ],
 "metadata": {
  "kernelspec": {
   "display_name": "Python 3",
   "language": "python",
   "name": "python3"
  },
  "language_info": {
   "codemirror_mode": {
    "name": "ipython",
    "version": 3
   },
   "file_extension": ".py",
   "mimetype": "text/x-python",
   "name": "python",
   "nbconvert_exporter": "python",
   "pygments_lexer": "ipython3",
   "version": "3.8.8"
  }
 },
 "nbformat": 4,
 "nbformat_minor": 5
}
