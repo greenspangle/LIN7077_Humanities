{
 "cells": [
  {
   "cell_type": "markdown",
   "id": "9326dd28",
   "metadata": {},
   "source": [
    "# thermostat(temperature)\n",
    "\n",
    "If the temperature is less that 19 turn the heat on, <br/>If it's more than 24 turn the heat off. <br/>If it's\n",
    "neither, leave the heat setting as it is. <br/>Return the string `'on'`, `'off'` or `'stat'` respectively.\\\n",
    "For example:\n",
    "\n",
    "temperature | return value\n",
    ":---------:|:-------:|\n",
    "`21` | `'stat'`\n",
    "`16` | `'on'`\n",
    "`34` | `'off'`\n",
    "`19` | `'stat'`\n",
    "`24` | `'stat'`\n",
    "\n",
    "**Hints:**\\\n",
    "A few `if` statements with possibly some `elif` and `else`, should get the job done."
   ]
  },
  {
   "cell_type": "code",
   "execution_count": 8,
   "id": "6bd3f22a",
   "metadata": {},
   "outputs": [],
   "source": [
    "def thermostat(temperature):\n",
    "    # the three clauses in this compound if statement include all possible values of temperature\n",
    "    # therefore one of them must return a value\n",
    "    if temperature < 19:  # colder than 19\n",
    "        return 'on'\n",
    "    elif temperature > 24:  # hotter than 24\n",
    "        return 'off'\n",
    "    else:  # neither of the above\n",
    "        return 'stat'\n"
   ]
  },
  {
   "cell_type": "markdown",
   "id": "d04cc451",
   "metadata": {},
   "source": [
    "## Testing thermostat()\n",
    "Check with the examples given, and a few values of my own, and especially check boundary values."
   ]
  },
  {
   "cell_type": "code",
   "execution_count": 9,
   "id": "6b1634a5",
   "metadata": {},
   "outputs": [
    {
     "name": "stdout",
     "output_type": "stream",
     "text": [
      "All tests passed\n"
     ]
    }
   ],
   "source": [
    "if (thermostat(21)== 'stat' and \n",
    "    thermostat(16)== 'on' and \n",
    "    thermostat(34)== 'off' and \n",
    "    thermostat(19)== 'stat' and\n",
    "    thermostat(24)== 'stat' and \n",
    "    \n",
    "    thermostat(0)== 'on' and \n",
    "    thermostat(18.9)== 'on' and \n",
    "    thermostat(99)== 'off' and \n",
    "    thermostat(19)== 'stat' and \n",
    "    thermostat(24.1)== 'off'):\n",
    "    print(\"All tests passed\")\n",
    "else:\n",
    "    print(\"FAILED\")"
   ]
  },
  {
   "cell_type": "code",
   "execution_count": null,
   "id": "74c0f9f7",
   "metadata": {},
   "outputs": [],
   "source": []
  }
 ],
 "metadata": {
  "kernelspec": {
   "display_name": "Python 3",
   "language": "python",
   "name": "python3"
  },
  "language_info": {
   "codemirror_mode": {
    "name": "ipython",
    "version": 3
   },
   "file_extension": ".py",
   "mimetype": "text/x-python",
   "name": "python",
   "nbconvert_exporter": "python",
   "pygments_lexer": "ipython3",
   "version": "3.8.8"
  }
 },
 "nbformat": 4,
 "nbformat_minor": 5
}
