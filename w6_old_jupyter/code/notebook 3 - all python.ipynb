{
 "cells": [
  {
   "cell_type": "code",
   "execution_count": 1,
   "id": "61c6d290",
   "metadata": {},
   "outputs": [
    {
     "data": {
      "text/plain": [
       "6"
      ]
     },
     "execution_count": 1,
     "metadata": {},
     "output_type": "execute_result"
    }
   ],
   "source": [
    "import random as r\n",
    "a= r.randint(1,6)\n",
    "a"
   ]
  },
  {
   "cell_type": "code",
   "execution_count": 3,
   "id": "424f7cff",
   "metadata": {},
   "outputs": [],
   "source": [
    "b=a+2"
   ]
  },
  {
   "cell_type": "code",
   "execution_count": 5,
   "id": "078a5248",
   "metadata": {},
   "outputs": [
    {
     "name": "stdout",
     "output_type": "stream",
     "text": [
      "b= 8\n"
     ]
    }
   ],
   "source": [
    "print('b=', b)"
   ]
  },
  {
   "cell_type": "markdown",
   "id": "65a67c3b",
   "metadata": {},
   "source": [
    "%b"
   ]
  },
  {
   "cell_type": "code",
   "execution_count": null,
   "id": "071449e4",
   "metadata": {},
   "outputs": [],
   "source": []
  }
 ],
 "metadata": {
  "kernelspec": {
   "display_name": "Python 3",
   "language": "python",
   "name": "python3"
  },
  "language_info": {
   "codemirror_mode": {
    "name": "ipython",
    "version": 3
   },
   "file_extension": ".py",
   "mimetype": "text/x-python",
   "name": "python",
   "nbconvert_exporter": "python",
   "pygments_lexer": "ipython3",
   "version": "3.8.8"
  }
 },
 "nbformat": 4,
 "nbformat_minor": 5
}
