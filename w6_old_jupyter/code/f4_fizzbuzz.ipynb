{
 "cells": [
  {
   "cell_type": "markdown",
   "id": "fdffc249",
   "metadata": {},
   "source": [
    "# Assignement Question\n",
    "## fizzbuzz(an_int)\n",
    "\n",
    "The parameter is guaranteed to be a positive integer or zero. If `an_int` is a multiple of 3 return `'Fizz'`\n",
    ", if it is a multiple of 5 return `'Buzz'` and if it is a multiple of 15 return `'FizzBuzz'`. If it is none\n",
    "of those then return `str(an_int)`.\\\n",
    "For example:\n",
    "\n",
    "parameter value | return value\n",
    ":---------:|:-------:|\n",
    "`1`  | `'1'`\n",
    "`5`  | `'Buzz'`\n",
    "`33` | `'Fizz'`\n",
    "`45` | `'FizzBuzz'`\n",
    "`13` | `'13'`\n",
    "\n",
    "**Hints:**\\\n",
    "Same again: `if`, `elif` and `else`. Just be careful you cover all the options and test them."
   ]
  },
  {
   "cell_type": "code",
   "execution_count": 1,
   "id": "a8f27cf1",
   "metadata": {},
   "outputs": [],
   "source": [
    "def fizzbuzz(an_int):\n",
    "    # set result to empty string so that it exists\n",
    "    result = ''\n",
    "    # rule 1\n",
    "    if an_int % 3 == 0:  # an_int is divisible by three\n",
    "        result += 'Fizz'  # append 'Fizz' to result which has a current value of ''\n",
    "    # rule 2\n",
    "    if an_int % 5 == 0:  # an_int is divisible by five\n",
    "        result += 'Buzz'  # append 'Fizz' to result  which has a current value of either '' or 'Fizz')\n",
    "    # rule 3 - this is covered by the combination of statements '# rule 1' and '# rule 2'\n",
    "    # rule 4\n",
    "    if result == '':  # result is still empty so apply default rule\n",
    "        result = str(an_int)\n",
    "    return result"
   ]
  }
 ],
 "metadata": {
  "kernelspec": {
   "display_name": "Python 3",
   "language": "python",
   "name": "python3"
  },
  "language_info": {
   "codemirror_mode": {
    "name": "ipython",
    "version": 3
   },
   "file_extension": ".py",
   "mimetype": "text/x-python",
   "name": "python",
   "nbconvert_exporter": "python",
   "pygments_lexer": "ipython3",
   "version": "3.8.8"
  }
 },
 "nbformat": 4,
 "nbformat_minor": 5
}
