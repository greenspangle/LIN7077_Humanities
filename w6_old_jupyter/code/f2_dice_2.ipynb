{
 "cells": [
  {
   "cell_type": "markdown",
   "id": "b1eeb090",
   "metadata": {},
   "source": [
    "# Assignment Question\n",
    "## Design build and test the function 'score_2(dice_1, dice_2)'\n",
    "\n",
    "The parameters are guaranteed to be integers between 1 and 6 inclusive and represent the face values on the\n",
    "throw of two six-sided dice. Calculate the score according to this rule:\n",
    "\n",
    "* The score is the sum of both dice\n",
    "* unless it is a 'double' (both dice the same) in which case add one of the dice to the score again\n",
    "* unless it is 'double six' (both dice six) in which case add both dice to the score again\n",
    "* unless the sum of the two dice is seven in which case double it\n",
    "\n",
    "For example:\n",
    "\n",
    "parameter values | return value\n",
    ":---------:|:-------:|\n",
    "`1, 5` | `6`\n",
    "`5, 1` | `6`\n",
    "`3, 4` | `14`\n",
    "`5, 2` | `14`\n",
    "`2, 2` | `6`\n",
    "`6, 6` | `24`\n",
    "\n",
    "**Hints:**\\\n",
    "A few `if` statements with possibly some `elif` and `else`, should get the job done."
   ]
  },
  {
   "cell_type": "markdown",
   "id": "de73c8f1",
   "metadata": {},
   "source": [
    "## Design & Build\n",
    "I sketched it out on a scrap of paper and then wrote it directly."
   ]
  },
  {
   "cell_type": "code",
   "execution_count": 1,
   "id": "5df61197",
   "metadata": {},
   "outputs": [],
   "source": [
    "def score_2(dice_1, dice_2):\n",
    "    # a sequence of if statements covers all possibilities, provided they are executed in the correct order!\n",
    "    score = dice_1 + dice_2  # rule 1\n",
    "    if score == 7:  # rule 4 = sum is seven\n",
    "        score = 14\n",
    "    if dice_1 == dice_2:  # rule 2 = it's a double\n",
    "        score = dice_1 + dice_2 + dice_1\n",
    "    if dice_1 == 6 and dice_2 == 6:  # rule 3 = double six!\n",
    "        score = dice_1 + dice_2 + dice_1 + dice_2\n",
    "    # all options considered, return the score\n",
    "    return score"
   ]
  },
  {
   "cell_type": "markdown",
   "id": "c31a90fc",
   "metadata": {},
   "source": [
    "## Informal Testing\n",
    "I ran the code a couple of times to check for syntax errors and checked a few cases for general correctness"
   ]
  },
  {
   "cell_type": "code",
   "execution_count": 2,
   "id": "ae0d1eac",
   "metadata": {},
   "outputs": [
    {
     "data": {
      "text/plain": [
       "(3, 3, 3, 14)"
      ]
     },
     "execution_count": 2,
     "metadata": {},
     "output_type": "execute_result"
    }
   ],
   "source": [
    "score_2(1,1), score_2(1,2), score_2(2,1), score_2(1,6),   # ad-hoc testing"
   ]
  },
  {
   "cell_type": "markdown",
   "id": "873a6426",
   "metadata": {},
   "source": [
    "## Formal Testing\n",
    "I believe the above function is correct and I have checked with a few examples using pen and paper.<br/>\n",
    "Now I will test it more formally using assert statements.<br/>\n",
    "Assert statements are very helpful for testing in that if they evaluate to True, they do nothing. If however they evaluate to False then they raise and exception and generate a message shoring exactly which iest failed."
   ]
  },
  {
   "cell_type": "markdown",
   "id": "f41c9b91",
   "metadata": {},
   "source": [
    "### Test the examples given\n",
    "These should all pass"
   ]
  },
  {
   "cell_type": "code",
   "execution_count": 3,
   "id": "973b632e",
   "metadata": {},
   "outputs": [],
   "source": [
    "assert score_2(1,5) == 6\n",
    "assert score_2(5,1) == 6\n",
    "assert score_2(3,4) == 14\n",
    "assert score_2(5,2) == 14\n",
    "assert score_2(2,2) == 6\n",
    "assert score_2(6,6) == 24\n",
    "# no exceptions raised means tests passed"
   ]
  },
  {
   "cell_type": "markdown",
   "id": "755ed8ce",
   "metadata": {},
   "source": [
    "### A few deliberate fails\n",
    "And these should all fail"
   ]
  },
  {
   "cell_type": "code",
   "execution_count": 4,
   "id": "d84f2f1f",
   "metadata": {},
   "outputs": [],
   "source": [
    "# assert score_2(3,2) == 3\n",
    "# assert score_2(3,3) == 3"
   ]
  },
  {
   "cell_type": "markdown",
   "id": "4da7ce3a",
   "metadata": {},
   "source": [
    "### More tests of my own choice"
   ]
  },
  {
   "cell_type": "code",
   "execution_count": 5,
   "id": "fb0de04a",
   "metadata": {},
   "outputs": [],
   "source": [
    "assert score_2(3,2) == 5\n",
    "assert score_2(3,3) == 9\n",
    "assert score_2(6,1) == 14\n",
    "assert score_2(1,6) == 14\n",
    "# no exceptions raised means tests passed"
   ]
  },
  {
   "cell_type": "markdown",
   "id": "49152f77",
   "metadata": {},
   "source": [
    "## Review & Evaluation\n",
    "All tests passed therefore I have a high level of confidence that this function is 100% correct.\n",
    "\n",
    "I could wrap up the three 'if' statements into one if/elif/else but I think the logic is clearer with the current structure."
   ]
  },
  {
   "cell_type": "code",
   "execution_count": null,
   "id": "ab2c0bc2",
   "metadata": {},
   "outputs": [],
   "source": []
  }
 ],
 "metadata": {
  "kernelspec": {
   "display_name": "Python 3",
   "language": "python",
   "name": "python3"
  },
  "language_info": {
   "codemirror_mode": {
    "name": "ipython",
    "version": 3
   },
   "file_extension": ".py",
   "mimetype": "text/x-python",
   "name": "python",
   "nbconvert_exporter": "python",
   "pygments_lexer": "ipython3",
   "version": "3.8.8"
  }
 },
 "nbformat": 4,
 "nbformat_minor": 5
}
