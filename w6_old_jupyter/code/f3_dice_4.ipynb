{
 "cells": [
  {
   "cell_type": "markdown",
   "id": "afc3cb98",
   "metadata": {},
   "source": [
    "# Assignement Question\n",
    "\n",
    "## score_4(red1, red2, blue1, blue2)\n",
    "\n",
    "The parameters are guaranteed to be integers between 1 and 6 inclusive. They represent the face values on\n",
    "the throw of four six-sided dice, two coloured red and two coloured blue. Calculate the score according to\n",
    "the rule:\n",
    "\n",
    "* The score is the face value of the lowest of all four dice\n",
    "* Unless the sum of any one red dice and any one blue dice is seven in which case score 7\n",
    "* Unless the sum of any one red dice and any one blue dice is seven, and the sum of the remaining red and\n",
    "  blue dice is also seven, in which case score 14\n",
    "* Unless the four dice are any permutation of (3,3,4,4), in which case score 21\\\n",
    "  For example:\n",
    "\n",
    "parameter values | return value\n",
    ":---------:|:-------:|\n",
    "`1, 5, 6, 6` | `7`\n",
    "`3, 2, 3, 3` | `2`\n",
    "`2, 6, 1, 5` | `14`\n",
    "`1, 1, 2, 6` | `7`\n",
    "`1, 2, 3, 4` | `1`\n",
    "`3, 3, 3, 4` | `7`\n",
    "`3, 3, 4, 4` | `21`\n",
    "`4, 3, 3, 4` | `21`\n",
    "\n",
    "**Hints:**\\\n",
    "Same again: `if`, `elif` and `else`. Just be careful you cover all the options and test them."
   ]
  },
  {
   "cell_type": "code",
   "execution_count": 2,
   "id": "119e26f0",
   "metadata": {},
   "outputs": [],
   "source": [
    "def score_4(red1, red2, blue1, blue2):\n",
    "    # a sequence of if statements covers all possibilities\n",
    "    # rule 1 - create a tuple (or list or set) and apply min(). This also ensures that score always has a value\n",
    "    score = min((red1, red2, blue1, blue2))\n",
    "    # rule 2 - the sum of any one red dice and any one blue dice is seven\n",
    "    if red1 + blue1 == 7 or red1 + blue2 == 7 or red2 + blue1 == 7 or red2 + blue2 == 7:\n",
    "        score = 7\n",
    "    # rule 3 - sum of any one red dice and any one blue dice is seven,\n",
    "    #          and the sum of the remaining red and blue dice is also seven\n",
    "    if (red1 + blue1 == 7 and red2 + blue2 == 7) or (red1 + blue2 == 7 and red2 + blue1 == 7):\n",
    "        score = 14\n",
    "    # rule 4 - the four dice are any permutation of (3,3,4,4),\n",
    "    if (red1 == 3 and red2 == 3 and blue1 == 4 and blue2 == 4) or \\\n",
    "            (red1 == 3 and red2 == 4 and blue1 == 3 and blue2 == 4) or \\\n",
    "            (red1 == 3 and red2 == 4 and blue1 == 4 and blue2 == 3) or \\\n",
    "            (red1 == 4 and red2 == 3 and blue1 == 3 and blue2 == 4) or \\\n",
    "            (red1 == 4 and red2 == 3 and blue1 == 4 and blue2 == 3) or \\\n",
    "            (red1 == 4 and red2 == 4 and blue1 == 3 and blue2 == 3):\n",
    "        score = 21\n",
    "    return score\n"
   ]
  },
  {
   "cell_type": "markdown",
   "id": "c22322e0",
   "metadata": {},
   "source": [
    "## Informal testing\n",
    "* test 1\n",
    "* test 2"
   ]
  },
  {
   "cell_type": "code",
   "execution_count": null,
   "id": "1a64b61c",
   "metadata": {},
   "outputs": [],
   "source": []
  },
  {
   "cell_type": "markdown",
   "id": "e2ce08da",
   "metadata": {},
   "source": [
    "## Formal Testing\n",
    "* Test compliance with examples\n",
    "* add a few extra tests of own design\n"
   ]
  },
  {
   "cell_type": "code",
   "execution_count": null,
   "id": "c271dbd6",
   "metadata": {},
   "outputs": [],
   "source": []
  },
  {
   "cell_type": "markdown",
   "id": "a0449fdd",
   "metadata": {},
   "source": [
    "## Review & Evaluation\n",
    "#### It works :-)"
   ]
  },
  {
   "cell_type": "code",
   "execution_count": null,
   "id": "3250c9b7",
   "metadata": {},
   "outputs": [],
   "source": []
  }
 ],
 "metadata": {
  "kernelspec": {
   "display_name": "Python 3",
   "language": "python",
   "name": "python3"
  },
  "language_info": {
   "codemirror_mode": {
    "name": "ipython",
    "version": 3
   },
   "file_extension": ".py",
   "mimetype": "text/x-python",
   "name": "python",
   "nbconvert_exporter": "python",
   "pygments_lexer": "ipython3",
   "version": "3.8.8"
  }
 },
 "nbformat": 4,
 "nbformat_minor": 5
}
